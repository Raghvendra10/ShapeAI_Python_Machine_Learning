{
  "nbformat": 4,
  "nbformat_minor": 0,
  "metadata": {
    "colab": {
      "name": "Raghvendra_Sharma.ipynb",
      "provenance": [],
      "collapsed_sections": []
    },
    "kernelspec": {
      "name": "python3",
      "display_name": "Python 3"
    },
    "language_info": {
      "name": "python"
    }
  },
  "cells": [
    {
      "cell_type": "code",
      "metadata": {
        "id": "FRST5a7tfc1g"
      },
      "source": [
        "import numpy as np\n",
        "import pandas as pd\n",
        "import sklearn"
      ],
      "execution_count": 2,
      "outputs": []
    },
    {
      "cell_type": "code",
      "metadata": {
        "id": "TuHyGa4QggAo"
      },
      "source": [
        "from sklearn.datasets import load_boston\n",
        "df=load_boston()"
      ],
      "execution_count": 3,
      "outputs": []
    },
    {
      "cell_type": "code",
      "metadata": {
        "id": "EBWqoQTJXGtR"
      },
      "source": [
        "df.keys()"
      ],
      "execution_count": null,
      "outputs": []
    },
    {
      "cell_type": "code",
      "metadata": {
        "id": "WrDDJdhrNKmO"
      },
      "source": [
        "print(df.data)"
      ],
      "execution_count": null,
      "outputs": []
    },
    {
      "cell_type": "code",
      "metadata": {
        "id": "D6EQqX4sOf4E"
      },
      "source": [
        "boston=pd.DataFrame(df.data,columns=df.feature_names)\n",
        "boston.head()"
      ],
      "execution_count": null,
      "outputs": []
    },
    {
      "cell_type": "code",
      "metadata": {
        "id": "MdEJVBEUPtvB"
      },
      "source": [
        "boston['MEDV']=df.target\n",
        "boston.head()"
      ],
      "execution_count": null,
      "outputs": []
    },
    {
      "cell_type": "code",
      "metadata": {
        "id": "yZSfbWQiRmau"
      },
      "source": [
        "boston.isnull().sum()"
      ],
      "execution_count": null,
      "outputs": []
    },
    {
      "cell_type": "code",
      "metadata": {
        "colab": {
          "base_uri": "https://localhost:8080/"
        },
        "id": "77p9NDOGSaoD",
        "outputId": "ebc5ad69-21fb-4d34-d2c4-ada186ed00f9"
      },
      "source": [
        "from sklearn.model_selection import train_test_split\n",
        "X=boston.drop('MEDV',axis=1)\n",
        "Y=boston['MEDV']\n",
        "X_train,X_test,Y_train,Y_test=train_test_split(X,Y,test_size=0.15,random_state=1)\n",
        "print(X_train.shape)\n",
        "print(X_test.shape)\n",
        "print(Y_train.shape)\n",
        "print(Y_test.shape)"
      ],
      "execution_count": 10,
      "outputs": [
        {
          "output_type": "stream",
          "text": [
            "(430, 13)\n",
            "(76, 13)\n",
            "(430,)\n",
            "(76,)\n"
          ],
          "name": "stdout"
        }
      ]
    },
    {
      "cell_type": "code",
      "metadata": {
        "id": "QAjRPWsDa_Ok"
      },
      "source": [
        "from sklearn.linear_model import LinearRegression\n",
        "from sklearn.metrics import mean_squared_error\n",
        "\n",
        "\n"
      ],
      "execution_count": 11,
      "outputs": []
    },
    {
      "cell_type": "code",
      "metadata": {
        "colab": {
          "base_uri": "https://localhost:8080/"
        },
        "id": "8JWJrEkIG_4l",
        "outputId": "837fc1fc-d3ee-4de1-e364-11868aa8f527"
      },
      "source": [
        "lin_model=LinearRegression()\n",
        "lin_model.fit(X_train,Y_train)"
      ],
      "execution_count": 12,
      "outputs": [
        {
          "output_type": "execute_result",
          "data": {
            "text/plain": [
              "LinearRegression(copy_X=True, fit_intercept=True, n_jobs=None, normalize=False)"
            ]
          },
          "metadata": {
            "tags": []
          },
          "execution_count": 12
        }
      ]
    },
    {
      "cell_type": "code",
      "metadata": {
        "colab": {
          "base_uri": "https://localhost:8080/"
        },
        "id": "LoMa8e4EZK1C",
        "outputId": "129daac7-f49e-48af-b3aa-b7b48af41107"
      },
      "source": [
        "y_train_predict=lin_model.predict(X_train)\n",
        "rmse=(np.sqrt(mean_squared_error(Y_train,y_train_predict)))\n",
        "print(\"The model performanace for training set\")\n",
        "print('RMSE is{}',format(rmse))\n",
        "print(\"\\n\")\n",
        "#On testing set\n",
        "y_test_predict=lin_model.predict(X_test)\n",
        "rmse=(np.sqrt(mean_squared_error(Y_test,y_test_predict)))\n",
        "print(\"The model performanace for testing set\")\n",
        "print('RMSE is{}',format(rmse))\n",
        "print(\"\\n\")\n"
      ],
      "execution_count": 13,
      "outputs": [
        {
          "output_type": "stream",
          "text": [
            "The model performanace for training set\n",
            "RMSE is{} 4.691577015539126\n",
            "\n",
            "\n",
            "The model performanace for testing set\n",
            "RMSE is{} 4.685497050472062\n",
            "\n",
            "\n"
          ],
          "name": "stdout"
        }
      ]
    }
  ]
}